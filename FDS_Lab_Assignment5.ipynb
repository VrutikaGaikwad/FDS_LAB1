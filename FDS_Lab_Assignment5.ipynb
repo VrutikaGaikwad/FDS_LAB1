{
  "nbformat": 4,
  "nbformat_minor": 0,
  "metadata": {
    "colab": {
      "name": "FDS_Lab_Assignment5.ipynb",
      "provenance": []
    },
    "kernelspec": {
      "name": "python3",
      "display_name": "Python 3"
    }
  },
  "cells": [
    {
      "cell_type": "code",
      "metadata": {
        "id": "L6797g5-5rph"
      },
      "source": [
        "def probability(noe,ss):\r\n",
        "  return round(noe/ss,2)"
      ],
      "execution_count": 2,
      "outputs": []
    },
    {
      "cell_type": "code",
      "metadata": {
        "id": "u4vugmWwDRNQ",
        "colab": {
          "base_uri": "https://localhost:8080/"
        },
        "outputId": "59176122-3658-4445-bb26-0b0a8add64b4"
      },
      "source": [
        "\r\n",
        "#Q. 1. Two dice are rolled, find the probability that the sum is:\r\n",
        "ss = 36\r\n",
        "# equal to 1\r\n",
        "event = 0 \r\n",
        "print(\"Probability that the sum is equal to 1 is \", probability(event,ss))\r\n",
        "# equal to 4\r\n",
        "event = 3 # {(1,3)(2,2)(3,1)}\r\n",
        "print(\"Probability that the sum is equal to 4 is \", probability(event,ss))\r\n",
        "# less than 13\r\n",
        "event = 36 # {(1,1)(1,2)....(6,5),(6,6)}\r\n",
        "print(\"Probability that the sum is is less than 13 \", probability(event,ss))\r\n"
      ],
      "execution_count": 3,
      "outputs": [
        {
          "output_type": "stream",
          "text": [
            "Probability that the sum is equal to 1 is  0.0\n",
            "Probability that the sum is equal to 4 is  0.08\n",
            "Probability that the sum is is less than 13  1.0\n"
          ],
          "name": "stdout"
        }
      ]
    },
    {
      "cell_type": "code",
      "metadata": {
        "colab": {
          "base_uri": "https://localhost:8080/"
        },
        "id": "w225d8zi8qi8",
        "outputId": "1ade9d02-1d05-47bf-d0ea-6f77c20cef3a"
      },
      "source": [
        "#Q. 2.  In the game of snakes and ladders,\r\n",
        "ss = 6    # a fair die is thrown.\r\n",
        "E1 = {1,2,3}    # the events of getting a natural number less than 4\r\n",
        "E2 = {2,4,6}    # the events of getting an even number\r\n",
        "E3 = {1,3,5}    # the events of getting an odd number\r\n",
        "# List the sets representing the following:\r\n",
        "# E1 or E2 or E3\r\n",
        "resSet = E1.union(E2,E3)\r\n",
        "print(\"E1 or E2 or E3 :\", resSet)\r\n",
        "# E1 and E2 and E3\r\n",
        "resSet = E1.intersection(E2,E3)\r\n",
        "print(\"E1 and E2 and E3 :\", resSet)\r\n",
        "# E1 but not E3\r\n",
        "resSet = E1 - E3\r\n",
        "print(\"E1 but not E3 :\", resSet)"
      ],
      "execution_count": 4,
      "outputs": [
        {
          "output_type": "stream",
          "text": [
            "E1 or E2 or E3 : {1, 2, 3, 4, 5, 6}\n",
            "E1 and E2 and E3 : set()\n",
            "E1 but not E3 : {2}\n"
          ],
          "name": "stdout"
        }
      ]
    },
    {
      "cell_type": "code",
      "metadata": {
        "id": "hKFTb0hN-pBA"
      },
      "source": [
        "import math\r\n",
        "def npr(n,r):\r\n",
        "  return int(math.factorial(n)/math.factorial(n-r))"
      ],
      "execution_count": 12,
      "outputs": []
    },
    {
      "cell_type": "code",
      "metadata": {
        "colab": {
          "base_uri": "https://localhost:8080/"
        },
        "id": "Q81mIBpGAVuz",
        "outputId": "b5765a81-9c68-4d50-ae14-fa3f5fe463c7"
      },
      "source": [
        "#Q. 3. How many permutations of the letters of the word \r\n",
        "# ARTICLE  have consonants in the first and last positions?\r\n",
        "n = 7 # seven letters in word\r\n",
        "n1 = 4 # number of consonants in the word\r\n",
        "# have consonants in first place and last place\r\n",
        "end_pos = npr(n1,1)*npr(n1-1,1) # since one of the consonants is placed in 1st position we have n1-1 to chose from for last position\r\n",
        "# permutations for the rest of remaining 5(2 are already placed) letters\r\n",
        "mid_pos = 1\r\n",
        "for i in range(5):\r\n",
        "  mid_pos *= npr(i+1,1)\r\n",
        "print(\"Permutations possible : \",end_pos*mid_pos)"
      ],
      "execution_count": 13,
      "outputs": [
        {
          "output_type": "stream",
          "text": [
            "Permutations possible :  1440\n"
          ],
          "name": "stdout"
        }
      ]
    },
    {
      "cell_type": "code",
      "metadata": {
        "colab": {
          "base_uri": "https://localhost:8080/"
        },
        "id": "C4kLuAAyCOQ5",
        "outputId": "0c3d7557-4949-4f08-b6d6-5cfa890e9b01"
      },
      "source": [
        "#Q. 4. Give five letters {A,B,C,D,E}. Find the following:\r\n",
        "n = 5\r\n",
        "i = 4\r\n",
        "#The number of four-letter word sequences.\r\n",
        "#We can select any n letters for four positions in the word without any restriction\r\n",
        "while(i>1):\r\n",
        "  print(\"The number of\",i,\"-letter word sequences: \",npr(5,i))\r\n",
        "  i -= 1"
      ],
      "execution_count": 14,
      "outputs": [
        {
          "output_type": "stream",
          "text": [
            "The number of 4 -letter word sequences:  120\n",
            "The number of 3 -letter word sequences:  60\n",
            "The number of 2 -letter word sequences:  20\n"
          ],
          "name": "stdout"
        }
      ]
    },
    {
      "cell_type": "code",
      "metadata": {
        "colab": {
          "base_uri": "https://localhost:8080/"
        },
        "id": "G1nAfExiD7LY",
        "outputId": "b22a5326-ce1d-46b2-94c5-8157850accd3"
      },
      "source": [
        "#Q. 5. In how many different ways can 4 people be seated in a straight line if two of them insist on sitting next to each other.\r\n",
        "# There are four different people and two of them want to be seated next to each other so we consider them as one person \r\n",
        "# that leaves us with three objects to fill up three spaces(3!) \r\n",
        "mod_pos = npr(3,3)\r\n",
        "#and since the people we consider as one can seat 2! ways amongst themselves\r\n",
        "amongst = npr(2,2)\r\n",
        "print(\"Different ways can 4 people be seated in a straight line if two of them insist on sitting next to each other: \",mod_pos*amongst)"
      ],
      "execution_count": 16,
      "outputs": [
        {
          "output_type": "stream",
          "text": [
            "Different ways can 4 people be seated in a straight line if two of them insist on sitting next to each other:  12\n"
          ],
          "name": "stdout"
        }
      ]
    },
    {
      "cell_type": "code",
      "metadata": {
        "colab": {
          "base_uri": "https://localhost:8080/"
        },
        "id": "edaqi0vDFiC-",
        "outputId": "38a0eca4-a639-4d83-879c-5d7bf7ca770a"
      },
      "source": [
        "#Q. 6.You have 4 math books and 5 history books to put on a shelf that has 5 slots. \r\n",
        "#In how many ways can the books be shelved if the first three slots are filled \r\n",
        "#with math books and the next two slots are filled with history books?\r\n",
        "# We have 4 math books and 3 slots to fill them in\r\n",
        "slot_math = npr(4,3)\r\n",
        "# We have 5 history books and 2 slots to fill them in\r\n",
        "slot_hist = npr(5,2)\r\n",
        "print(\"Number of ways can the books be shelved :\",slot_math*slot_hist)"
      ],
      "execution_count": 17,
      "outputs": [
        {
          "output_type": "stream",
          "text": [
            "Number of ways can the books be shelved : 480\n"
          ],
          "name": "stdout"
        }
      ]
    },
    {
      "cell_type": "code",
      "metadata": {
        "colab": {
          "base_uri": "https://localhost:8080/"
        },
        "id": "8nmXT5r0LrFf",
        "outputId": "31083f8a-6332-421c-b6d3-4fd905c5a80b"
      },
      "source": [
        "#Q. 7. The shopping mall has a straight row of 5 flagpoles at its main entrance plaza. \r\n",
        "#It has 3 identical green flags and 2 identical yellow flags.\r\n",
        "#How many distinct arrangements of flags on the flagpoles are possible?\r\n",
        "# Suppose GGGYY represents the arrangement of flags.\r\n",
        "no_arrg = npr(5,5)\r\n",
        "# As 3 Green flags are identical to each other and 2 Yellow flags are identical to each other.\r\n",
        "no_arrg = (npr(5,5))/int(math.factorial(3)*math.factorial(2))\r\n",
        "print(\"Number of distinct arrangements of flags on the flagpoles are possible :\",int(no_arrg))"
      ],
      "execution_count": 27,
      "outputs": [
        {
          "output_type": "stream",
          "text": [
            "Number of distinct arrangements of flags on the flagpoles are possible : 10\n"
          ],
          "name": "stdout"
        }
      ]
    },
    {
      "cell_type": "code",
      "metadata": {
        "colab": {
          "base_uri": "https://localhost:8080/"
        },
        "id": "kmGdvkPLNnfD",
        "outputId": "2083ba68-918b-455c-830e-395e039e1e25"
      },
      "source": [
        "import numpy as np\r\n",
        "N = 365 # number of days in year\r\n",
        "# calculating probability of people have different birthdays\r\n",
        "def p_no_match(n):\r\n",
        "  individuals_array = np.arange(n)\r\n",
        "  return np.prod( (N - individuals_array)/N )\r\n",
        "\r\n",
        "# for example n = 10 \r\n",
        "different = p_no_match(10)\r\n",
        "print(\"P(all different): \",round(different,2),\"\\nP(at least one match)\", round(1 - different,2))"
      ],
      "execution_count": 40,
      "outputs": [
        {
          "output_type": "stream",
          "text": [
            "P(all different):  0.88 \n",
            "P(at least one match) 0.12\n"
          ],
          "name": "stdout"
        }
      ]
    },
    {
      "cell_type": "code",
      "metadata": {
        "id": "fM0BqpANGuBk"
      },
      "source": [
        "def checkSample(sample):\r\n",
        "  for e in sample:\r\n",
        "    if sample.count(e) > 1:\r\n",
        "      return \"With replacement\"\r\n",
        "  return \"Without replacement\""
      ],
      "execution_count": 18,
      "outputs": []
    },
    {
      "cell_type": "code",
      "metadata": {
        "colab": {
          "base_uri": "https://localhost:8080/"
        },
        "id": "PAnRlLx2Ig1d",
        "outputId": "f2f6c5ef-c19b-4237-fac4-cb7ee23068cb"
      },
      "source": [
        "# Q. 9. You have a fair, well-shuffled deck of 52 cards. It consists of four suits.\r\n",
        "# The suits are clubs, diamonds, hearts and spaces. There are 13 cards in each suit\r\n",
        "# consisting of 1, 2, 3, 4, 5, 6, 7, 8, 9, J(Jack), Q(Queen), K(king) of that suit.\r\n",
        "#Three cards are picked at random\r\n",
        "# Suppose you know that the picked cards are Q of spades(QS), K of hearts(KH) and Q of spades(QS). Can you decide if the sampling was with or without replacement?\r\n",
        "print(\"{QS,KH,QS} is possible\",checkSample(['QS','KH','QS']))\r\n",
        "# Suppose  you know that the picked cards are Q of spades(QS), K of hearts(KH) and J of spades(JS). Can you decide if the sampling was with or without replacement?\r\n",
        "print(\"{QS,KH,JS} is possible\",checkSample(['QS','KH','JS']))"
      ],
      "execution_count": 20,
      "outputs": [
        {
          "output_type": "stream",
          "text": [
            "{QS,KH,QS} is possible With replacement\n",
            "{QS,KH,JS} is possible Without replacement\n"
          ],
          "name": "stdout"
        }
      ]
    },
    {
      "cell_type": "code",
      "metadata": {
        "colab": {
          "base_uri": "https://localhost:8080/"
        },
        "id": "KhvTL_32JhtT",
        "outputId": "ba526f00-82d3-4f40-9dbb-d297b059834f"
      },
      "source": [
        "#You have a fair, well-shuffled deck of 52 cards. It consists of four suits.\r\n",
        "#The suits are clubs, diamonds, hearts and spaces. There are 13 cards in each\r\n",
        "#suit consisting of 1, 2, 3, 4, 5, 6, 7, 8, 9, J(Jack), Q(Queen), H(king) of that suit.\r\n",
        "# S=spades, H=Hearts, D=Diamonds, C=Clubs, suppose that you sample four cards without \r\n",
        "#replacement. Which of the following outcomes are possible? \r\n",
        "input = [['QS','ID','1C','QD'],['KH','7D','6D','KH'],['QS','7D','6D','KS']]\r\n",
        "w_r = []\r\n",
        "wo_r = []\r\n",
        "for e_list in input:\r\n",
        "  if checkSample(e_list) == \"With replacement\":\r\n",
        "    w_r.append(\"POSSIBLE\")\r\n",
        "    wo_r.append(\"IMPOSSIBLE\")\r\n",
        "  else:\r\n",
        "    w_r.append(\"POSSIBLE\")\r\n",
        "    wo_r.append(\"POSSIBLE\")\r\n",
        "print(\"With Replacement:\\n\",w_r,\"\\nWithout Replacement:\\n\",wo_r)"
      ],
      "execution_count": 22,
      "outputs": [
        {
          "output_type": "stream",
          "text": [
            "With Replacement:\n",
            " ['POSSIBLE', 'POSSIBLE', 'POSSIBLE'] \n",
            "Without Replacement:\n",
            " ['POSSIBLE', 'IMPOSSIBLE', 'POSSIBLE']\n"
          ],
          "name": "stdout"
        }
      ]
    }
  ]
}