{
  "nbformat": 4,
  "nbformat_minor": 0,
  "metadata": {
    "colab": {
      "name": "pratical2_DescriptiveStatistics.ipynb",
      "provenance": []
    },
    "kernelspec": {
      "name": "python3",
      "display_name": "Python 3"
    }
  },
  "cells": [
    {
      "cell_type": "markdown",
      "metadata": {
        "id": "dNB5cBBOQ6RH"
      },
      "source": [
        "* Descriptive Statistics - A descriptive statistic is a summary statistic that quantitatively describes or summarizes features from a collection of information, while descriptive statistics is the process of using and analysing those statistics.\r\n",
        "* Why is Descriptive Statistics important? - Descriptive statistics are very important because if we simply presented our raw data it would be hard to visualize what the data was showing, especially if there was a lot of it. Descriptive statistics therefore enables us to present the data in a more meaningful way, which allows simpler interpretation of the data. For example, if we had the results of 100 pieces of students' coursework, we may be interested in the overall performance of those students. We would also be interested in the distribution or spread of the marks. Descriptive statistics allow us to do this.\r\n",
        "* Role of Descriptive Statistics in Machine learning - Descriptive Statistical Analysis helps you to understand your data and is a very important part of Machine Learning. This is due to Machine Learning being all about making predictions. On the other hand, statistics is all about drawing conclusions from data, which is a necessary initial step.\r\n"
      ]
    },
    {
      "cell_type": "code",
      "metadata": {
        "id": "7v6UbxeZlaln"
      },
      "source": [
        "# importing required libraries\r\n",
        "\r\n",
        "import pandas as pd \r\n",
        "import numpy as np\r\n",
        "import matplotlib.pyplot as plt\r\n",
        "import seaborn as sns\r\n",
        "from scipy.stats import skew\r\n",
        "from scipy.stats import kurtosis\r\n"
      ],
      "execution_count": 88,
      "outputs": []
    },
    {
      "cell_type": "code",
      "metadata": {
        "id": "SXGhbP7Q3u-m"
      },
      "source": [
        "pd.set_option(\"display.max_columns\",None)  # to display all the columns\r\n",
        "pd.options.display.float_format = \"{:,.2f}\".format # to display float value upto two decimals"
      ],
      "execution_count": 46,
      "outputs": []
    },
    {
      "cell_type": "markdown",
      "metadata": {
        "id": "xEzNOppIwj7L"
      },
      "source": [
        "Format : A data frame with 53940 rows and 10 variables\r\n",
        "\r\n",
        "Description : A dataset containing the prices and other attributes of almost 54,000 diamonds.\r\n",
        "\r\n",
        "The variables are as follows:\r\n",
        "\r\n",
        "*   price:  price in US dollars (\\$326--\\$18,823)\r\n",
        "*   carat: weight of the diamond (0.2--5.01)\r\n",
        "*   cut: quality of the cut (Fair, Good, Very Good, Premium, Ideal)\r\n",
        "*   colour: diamond colour, from J (worst) to D (best)\r\n",
        "*   clarity: a measurement of how clear the diamond is (IF (best), VVS1, VVS2,VS1, VS2, SI1, SI2, I1 (worst) )\r\n",
        "*   popularity: popularity of this specs (Good, Fair, Poor)\r\n",
        "*   x: length in mm (0--10.74)\r\n",
        "*   y: width in mm (0--58.9)\r\n",
        "*   z: depth in mm (0--31.8)\r\n",
        "*   depth: total depth percentage = z / mean(x, y) = 2 * z / (x + y) (43--79)\r\n",
        "*   table: width of top of diamond relative to widest point (43--95)\r\n",
        "\r\n",
        "\r\n",
        "\r\n",
        "\r\n",
        "\r\n",
        "\r\n",
        "\r\n",
        "\r\n",
        "\r\n",
        "\r\n",
        "\r\n",
        "\r\n"
      ]
    },
    {
      "cell_type": "code",
      "metadata": {
        "id": "LbMJ02TYst1K"
      },
      "source": [
        "# reading data from csv file \r\n",
        "xls = pd.read_csv('drive/MyDrive/datasets/diamonds.csv')"
      ],
      "execution_count": 64,
      "outputs": []
    },
    {
      "cell_type": "markdown",
      "metadata": {
        "id": "3fCdJi4NLXb7"
      },
      "source": [
        "Measures of Central Tendency\r\n",
        "* Mean - The sum of a collection of numbers divided by the count of numbers in the collection.\r\n",
        "* Median - The median is the value separating the higher half from the lower half of a data sample, a population, or a probability distribution.\r\n",
        "* Mode - The mode is the value that appears most often in a set of data values."
      ]
    },
    {
      "cell_type": "code",
      "metadata": {
        "id": "qeupR7fTvG0p"
      },
      "source": [
        "des_df = xls.drop(['id'],axis = 1) # drop id column\r\n",
        "for col in des_df:   # drop all alpha-numeric columns\r\n",
        "  if des_df[col].dtype == 'object':\r\n",
        "    des_df = des_df.drop([col], axis = 1)\r\n",
        "\r\n",
        "des_r = des_df.describe() # describe() gives us mean,min,max,median,1Q,3Q,std\r\n",
        "des_r = des_r.rename(index={'50%':'median/50%'}) "
      ],
      "execution_count": 65,
      "outputs": []
    },
    {
      "cell_type": "markdown",
      "metadata": {
        "id": "5VIfOXq8M2OU"
      },
      "source": [
        "Measures of Dispersion\r\n",
        "* Standard Deviation - The standard deviation is a measure of the amount of variation or dispersion of a set of values.\r\n",
        "* Variance - The term variance refers to a statistical measurement of the spread between numbers in a data set.\r\n",
        "* Min and Max Variables\r\n",
        "  * Min is the minimum value in the column or in dataset.\r\n",
        "  * Max is the maximum value in the column or in dataset.\r\n",
        "\r\n",
        "Quartiles -  A quartile is a type of quantile which divides the number of data points into four parts, or quarters, of more-or-less equal size.\r\n",
        "* 25% or 1st quartile - The first quartile (Q1) is defined as the middle number between the smallest number (minimum) and the median of the data set. It is also known as the lower or 25th empirical quartile, as 25% of the data is below this point.\r\n",
        "* 50% or 2nd quartile - The second quartile (Q2) is the median of a data set; thus 50% of the data lies below this point.\r\n",
        "* 75% or 3rd quartile - The third quartile (Q3) is the middle value between the median and the highest value (maximum) of the data set. It is known as the upper or 75th empirical quartile, as 75% of the data lies below this point."
      ]
    },
    {
      "cell_type": "code",
      "metadata": {
        "id": "6PRKrZdB7WDW"
      },
      "source": [
        "var_r = des_df.var() # calulating variance seperately\r\n",
        "\r\n",
        "varlist = []\r\n",
        "for col in des_df.columns: # converting result of var() from series to list\r\n",
        "  if df[col].dtype == 'object':\r\n",
        "    continue\r\n",
        "  varlist.append(round(df[col],5))\r\n",
        "\r\n",
        "df = pd.DataFrame([varlist],columns=des_r.columns, index=['var']) # putting results of variance into dataframe\r\n",
        "mct = des_r.append(df) # adding var to describe result"
      ],
      "execution_count": 91,
      "outputs": []
    },
    {
      "cell_type": "code",
      "metadata": {
        "id": "tx2SqGwO7kTB"
      },
      "source": [
        "mode_r = des_df.mode() # calculating mode seperately\r\n",
        "mode_r = mode_r.rename(index={0:'mode'}) # renaming index\r\n",
        "mct_m = mct.append(mode_r) # adding mode to describe result"
      ],
      "execution_count": 67,
      "outputs": []
    },
    {
      "cell_type": "markdown",
      "metadata": {
        "id": "yDBOfeWsMh3H"
      },
      "source": [
        "Skewness and Kurtosis\r\n",
        "* Skewness is a measure of the symmetry of a distribution. The highest point of a distribution is its mode.\r\n",
        "* Kurtosis is a statistical measure that defines how heavily the tails of a distribution differ from the tails of a normal distribution."
      ]
    },
    {
      "cell_type": "code",
      "metadata": {
        "id": "MzOeqrSn77Yh"
      },
      "source": [
        "skew_r = skew(des_df) # skewness resultant list\r\n",
        "df = pd.DataFrame([skew_r],columns=des_df.columns, index=['skewness']) # converting list to dataframe\r\n",
        "mct_s = mct_m.append(df) # adding skewness to describe dataframe\r\n",
        "\r\n",
        "kur_r = kurtosis(des_df) # kurtosis resultant list\r\n",
        "df = pd.DataFrame([kur_r],columns=des_df.columns, index=['kurtosis']) # converting list to dataframe\r\n",
        "mct_k = mct_s.append(df) # adding kurtosis to describe dataframe"
      ],
      "execution_count": null,
      "outputs": []
    },
    {
      "cell_type": "markdown",
      "metadata": {
        "id": "5s-64GHkOpYW"
      },
      "source": [
        "Range - It is difference between largest and smallest value."
      ]
    },
    {
      "cell_type": "code",
      "metadata": {
        "id": "y0NWpJkoDmzv"
      },
      "source": [
        "r_list = []\r\n",
        "for col in des_df.columns.to_list(): # calculating range for all columns\r\n",
        "  r_list.append(des_df[col].max()-des_df[col].min())\r\n",
        "\r\n",
        "df = pd.DataFrame([r_list],columns=des_df.columns, index=['range']) # converting range list to dataframe\r\n",
        "mct_r = mct_k.append(df) # adding range to describe dataframe"
      ],
      "execution_count": null,
      "outputs": []
    },
    {
      "cell_type": "code",
      "metadata": {
        "colab": {
          "base_uri": "https://localhost:8080/"
        },
        "id": "Glgvrx51Iw_d",
        "outputId": "cce0ee70-3bbe-42b0-c7cd-a9d9d8e8664b"
      },
      "source": [
        "print(mct_r) # print final dataframe"
      ],
      "execution_count": 92,
      "outputs": [
        {
          "output_type": "stream",
          "text": [
            "               carat     depth     table         price         x         y  \\\n",
            "count      53,938.00 53,940.00 53,940.00     53,936.00 53,940.00 53,940.00   \n",
            "mean            0.80     61.75     57.46      3,932.83      5.73      5.73   \n",
            "std             0.47      1.43      2.23      3,989.44      1.12      1.14   \n",
            "min             0.20     43.00     43.00        326.00      0.00      0.00   \n",
            "25%             0.40     61.00     56.00        950.00      4.71      4.72   \n",
            "median/50%      0.70     61.80     57.00      2,401.00      5.70      5.71   \n",
            "75%             1.04     62.50     59.00      5,324.25      6.54      6.54   \n",
            "max             5.01     79.00     95.00     18,823.00     10.74     58.90   \n",
            "var             0.22      2.05      4.99 15,915,659.88      1.26      1.30   \n",
            "mode            0.30     62.00     56.00        605.00      4.37      4.34   \n",
            "skewness         nan     -0.08      0.80           nan      0.38      2.43   \n",
            "kurtosis         nan      5.74      2.80           nan     -0.62     91.21   \n",
            "range           4.81     36.00     52.00     18,497.00     10.74     58.90   \n",
            "\n",
            "                   z  \n",
            "count      53,940.00  \n",
            "mean            3.54  \n",
            "std             0.71  \n",
            "min             0.00  \n",
            "25%             2.91  \n",
            "median/50%      3.53  \n",
            "75%             4.04  \n",
            "max            31.80  \n",
            "var             0.50  \n",
            "mode            2.70  \n",
            "skewness        1.52  \n",
            "kurtosis       47.08  \n",
            "range          31.80  \n"
          ],
          "name": "stdout"
        }
      ]
    },
    {
      "cell_type": "markdown",
      "metadata": {
        "id": "bj4J2sBVO1Kp"
      },
      "source": [
        "Box Plots - A box and whisker plot (sometimes called a boxplot) is a graph that presents information from a five-number summary.\r\n",
        "* Lowest observation\r\n",
        "* Highest observation\r\n",
        "* Lower Quartile\r\n",
        "* Upper Quartile\r\n",
        "* Median"
      ]
    },
    {
      "cell_type": "code",
      "metadata": {
        "colab": {
          "base_uri": "https://localhost:8080/",
          "height": 1000
        },
        "id": "H_skBosWIxhR",
        "outputId": "8ed76330-a8e1-4ae9-8bec-d9a959b49b19"
      },
      "source": [
        "# plotting boxplots\r\n",
        "colNames = xls.columns.tolist() # make a list of columns present in dataframes\r\n",
        "for colName in colNames:\r\n",
        "    if xls[colName].dtype == \"object\" or colName == 'id': # skip Id and string columns\r\n",
        "        continue\r\n",
        "    plt.figure()\r\n",
        "    sns.boxplot(y=xls[colName], color='g') # plot the boxplot\r\n",
        "    plt.title(colName) # provide title\r\n",
        "    plt.ylabel(colName) # name Y axis\r\n",
        "    plt.xlabel('Bins') # name X axis\r\n",
        "    plt.show()"
      ],
      "execution_count": 95,
      "outputs": [
        {
          "output_type": "display_data",
          "data": {
            "image/png": "[encoded data removed]",
            "text/plain": [
              "<Figure size 432x288 with 1 Axes>"
            ]
          },
          "metadata": {
            "tags": [],
            "needs_background": "light"
          }
        },
        {
          "output_type": "display_data",
          "data": {
            "image/png": "[encoded data removed]",
            "text/plain": [
              "<Figure size 432x288 with 1 Axes>"
            ]
          },
          "metadata": {
            "tags": [],
            "needs_background": "light"
          }
        },
        {
          "output_type": "display_data",
          "data": {
            "image/png": "[encoded data removed]",
            "text/plain": [
              "<Figure size 432x288 with 1 Axes>"
            ]
          },
          "metadata": {
            "tags": [],
            "needs_background": "light"
          }
        },
        {
          "output_type": "display_data",
          "data": {
            "image/png": "[encoded data removed]",
            "text/plain": [
              "<Figure size 432x288 with 1 Axes>"
            ]
          },
          "metadata": {
            "tags": [],
            "needs_background": "light"
          }
        },
        {
          "output_type": "display_data",
          "data": {
            "image/png": "[encoded data removed]",
            "text/plain": [
              "<Figure size 432x288 with 1 Axes>"
            ]
          },
          "metadata": {
            "tags": [],
            "needs_background": "light"
          }
        },
        {
          "output_type": "display_data",
          "data": {
            "image/png": "[encoded data removed]",
            "text/plain": [
              "<Figure size 432x288 with 1 Axes>"
            ]
          },
          "metadata": {
            "tags": [],
            "needs_background": "light"
          }
        },
        {
          "output_type": "display_data",
          "data": {
            "image/png": "[encoded data removed]",
            "text/plain": [
              "<Figure size 432x288 with 1 Axes>"
            ]
          },
          "metadata": {
            "tags": [],
            "needs_background": "light"
          }
        }
      ]
    }
  ]
}